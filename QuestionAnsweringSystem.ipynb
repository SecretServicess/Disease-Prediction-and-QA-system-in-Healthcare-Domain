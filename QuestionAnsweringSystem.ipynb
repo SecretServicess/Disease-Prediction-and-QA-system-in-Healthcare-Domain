{
  "cells": [
    {
      "cell_type": "markdown",
      "metadata": {
        "id": "view-in-github",
        "colab_type": "text"
      },
      "source": [
        "<a href=\"https://colab.research.google.com/github/SecretServicess/Disease-Prediction-and-QA-system-in-Healthcare-Domain/blob/main/QuestionAnsweringSystem.ipynb\" target=\"_parent\"><img src=\"https://colab.research.google.com/assets/colab-badge.svg\" alt=\"Open In Colab\"/></a>"
      ]
    },
    {
      "cell_type": "code",
      "execution_count": null,
      "metadata": {
        "id": "WxRN69rLBfxn",
        "outputId": "91dd1bf6-c831-4007-eeb8-10f30eb28bd6"
      },
      "outputs": [
        {
          "name": "stderr",
          "output_type": "stream",
          "text": [
            "C:\\Users\\Prakhar Jadaun\\AppData\\Roaming\\Python\\Python311\\site-packages\\tqdm\\auto.py:22: TqdmWarning: IProgress not found. Please update jupyter and ipywidgets. See https://ipywidgets.readthedocs.io/en/stable/user_install.html\n",
            "  from .autonotebook import tqdm as notebook_tqdm\n"
          ]
        }
      ],
      "source": [
        "import pandas as pd\n",
        "from nltk.stem import WordNetLemmatizer\n",
        "from sklearn.feature_extraction.text import TfidfVectorizer\n",
        "from sklearn.metrics.pairwise import cosine_similarity\n",
        "from nltk.corpus import stopwords\n",
        "from nltk.tokenize import word_tokenize, sent_tokenize\n",
        "import warnings\n",
        "import torch\n",
        "from transformers import BertForQuestionAnswering, BertTokenizer\n",
        "warnings.filterwarnings('ignore')"
      ]
    },
    {
      "cell_type": "code",
      "execution_count": null,
      "metadata": {
        "id": "wgVQVrD1Bfxr",
        "outputId": "382d471e-56f6-4892-db57-198aa0acf7ba"
      },
      "outputs": [
        {
          "name": "stdout",
          "output_type": "stream",
          "text": [
            "<class 'pandas.core.frame.DataFrame'>\n",
            "RangeIndex: 171 entries, 0 to 170\n",
            "Data columns (total 4 columns):\n",
            " #   Column    Non-Null Count  Dtype \n",
            "---  ------    --------------  ----- \n",
            " 0   answer    171 non-null    object\n",
            " 1   question  171 non-null    object\n",
            " 2   url       171 non-null    object\n",
            " 3   tags      171 non-null    object\n",
            "dtypes: object(4)\n",
            "memory usage: 5.5+ KB\n"
          ]
        }
      ],
      "source": [
        "file1 = pd.read_json('file1.json')\n",
        "file1.info()"
      ]
    },
    {
      "cell_type": "code",
      "execution_count": null,
      "metadata": {
        "id": "_12W-EfVBfxs",
        "outputId": "db665f5a-3f3e-4587-a6af-be0e7ae31b07"
      },
      "outputs": [
        {
          "name": "stdout",
          "output_type": "stream",
          "text": [
            "<class 'pandas.core.frame.DataFrame'>\n",
            "RangeIndex: 137052 entries, 0 to 137051\n",
            "Data columns (total 5 columns):\n",
            " #   Column        Non-Null Count   Dtype \n",
            "---  ------        --------------   ----- \n",
            " 0   question      137052 non-null  object\n",
            " 1   short_answer  137052 non-null  object\n",
            " 2   answer        137052 non-null  object\n",
            " 3   tags          137052 non-null  object\n",
            " 4   url           137052 non-null  object\n",
            "dtypes: object(5)\n",
            "memory usage: 5.2+ MB\n"
          ]
        }
      ],
      "source": [
        "file2 = pd.read_json('file2.json')\n",
        "file2.info()"
      ]
    },
    {
      "cell_type": "code",
      "execution_count": null,
      "metadata": {
        "id": "dJlxJXUMBfxs",
        "outputId": "9812eb03-7dcb-4647-afb7-2bdf858b00c3"
      },
      "outputs": [
        {
          "name": "stdout",
          "output_type": "stream",
          "text": [
            "<class 'pandas.core.frame.DataFrame'>\n",
            "RangeIndex: 465 entries, 0 to 464\n",
            "Data columns (total 5 columns):\n",
            " #   Column         Non-Null Count  Dtype \n",
            "---  ------         --------------  ----- \n",
            " 0   answer         465 non-null    object\n",
            " 1   question       465 non-null    object\n",
            " 2   question_text  465 non-null    object\n",
            " 3   tags           465 non-null    object\n",
            " 4   url            465 non-null    object\n",
            "dtypes: object(5)\n",
            "memory usage: 18.3+ KB\n"
          ]
        }
      ],
      "source": [
        "file3 = pd.read_json('file3.json')\n",
        "file3.info()"
      ]
    },
    {
      "cell_type": "code",
      "execution_count": null,
      "metadata": {
        "id": "gWIJmNhhBfxt",
        "outputId": "e4741c41-2b2d-4ea6-b15f-8a1230be3eb6"
      },
      "outputs": [
        {
          "name": "stdout",
          "output_type": "stream",
          "text": [
            "<class 'pandas.core.frame.DataFrame'>\n",
            "RangeIndex: 22 entries, 0 to 21\n",
            "Data columns (total 4 columns):\n",
            " #   Column    Non-Null Count  Dtype \n",
            "---  ------    --------------  ----- \n",
            " 0   tags      22 non-null     object\n",
            " 1   question  22 non-null     object\n",
            " 2   answer    22 non-null     object\n",
            " 3   context   22 non-null     object\n",
            "dtypes: object(4)\n",
            "memory usage: 832.0+ bytes\n"
          ]
        }
      ],
      "source": [
        "file4 = pd.read_json('file4.json')\n",
        "file4.info()"
      ]
    },
    {
      "cell_type": "code",
      "execution_count": null,
      "metadata": {
        "id": "dhgnOKt3Bfxt",
        "outputId": "5422dd20-e6e7-4d61-9260-5c1b481ad6c2"
      },
      "outputs": [
        {
          "name": "stdout",
          "output_type": "stream",
          "text": [
            "<class 'pandas.core.frame.DataFrame'>\n",
            "RangeIndex: 5679 entries, 0 to 5678\n",
            "Data columns (total 6 columns):\n",
            " #   Column         Non-Null Count  Dtype \n",
            "---  ------         --------------  ----- \n",
            " 0   answer         5679 non-null   object\n",
            " 1   answer_author  5679 non-null   object\n",
            " 2   question       5679 non-null   object\n",
            " 3   question_text  5679 non-null   object\n",
            " 4   tags           5679 non-null   object\n",
            " 5   url            5679 non-null   object\n",
            "dtypes: object(6)\n",
            "memory usage: 266.3+ KB\n"
          ]
        }
      ],
      "source": [
        "file5 = pd.read_json('file5.json')\n",
        "file5.info()"
      ]
    },
    {
      "cell_type": "code",
      "execution_count": null,
      "metadata": {
        "id": "7wUPg3FkBfxt",
        "outputId": "92b0fc89-8f78-46d8-b6d1-0b8f7e460c11"
      },
      "outputs": [
        {
          "name": "stdout",
          "output_type": "stream",
          "text": [
            "<class 'pandas.core.frame.DataFrame'>\n",
            "RangeIndex: 23437 entries, 0 to 23436\n",
            "Data columns (total 4 columns):\n",
            " #   Column    Non-Null Count  Dtype \n",
            "---  ------    --------------  ----- \n",
            " 0   answer    23437 non-null  object\n",
            " 1   question  23437 non-null  object\n",
            " 2   url       23437 non-null  object\n",
            " 3   tags      23437 non-null  object\n",
            "dtypes: object(4)\n",
            "memory usage: 732.5+ KB\n"
          ]
        }
      ],
      "source": [
        "file6 = pd.read_json('file6.json')\n",
        "file6.info()"
      ]
    },
    {
      "cell_type": "code",
      "execution_count": null,
      "metadata": {
        "id": "DVDSb3S1Bfxu"
      },
      "outputs": [],
      "source": [
        "# Load each JSON file into a pandas dataframe\n",
        "file1_df = pd.read_json('file1.json')\n",
        "file2_df = pd.read_json('file2.json')\n",
        "file3_df = pd.read_json('file3.json')\n",
        "file4_df = pd.read_json('file4.json')\n",
        "file5_df = pd.read_json('file5.json')\n",
        "file6_df = pd.read_json('file6.json')\n",
        "\n",
        "# Merge the dataframes on the common column names\n",
        "merged_df = pd.concat([file1_df, file2_df, file3_df, file4_df, file5_df, file6_df], axis=0, ignore_index=True)\n",
        "\n",
        "# Write the merged dataframe to a new JSON file\n",
        "# merged_df.to_json('merged.json', orient='records')"
      ]
    },
    {
      "cell_type": "code",
      "execution_count": null,
      "metadata": {
        "id": "yQzpNmtTBfxu",
        "outputId": "5ce863f8-1c0e-4caf-811c-cfa1f70b088c"
      },
      "outputs": [
        {
          "name": "stdout",
          "output_type": "stream",
          "text": [
            "<class 'pandas.core.frame.DataFrame'>\n",
            "RangeIndex: 166826 entries, 0 to 166825\n",
            "Data columns (total 8 columns):\n",
            " #   Column         Non-Null Count   Dtype \n",
            "---  ------         --------------   ----- \n",
            " 0   answer         166826 non-null  object\n",
            " 1   question       166826 non-null  object\n",
            " 2   url            166804 non-null  object\n",
            " 3   tags           166826 non-null  object\n",
            " 4   short_answer   137052 non-null  object\n",
            " 5   question_text  6144 non-null    object\n",
            " 6   context        22 non-null      object\n",
            " 7   answer_author  5679 non-null    object\n",
            "dtypes: object(8)\n",
            "memory usage: 10.2+ MB\n"
          ]
        }
      ],
      "source": [
        "merged_df.info()"
      ]
    },
    {
      "cell_type": "code",
      "execution_count": null,
      "metadata": {
        "id": "HoXyRu3NBfxv",
        "outputId": "c231338c-37c8-49ae-c382-0495543c0012"
      },
      "outputs": [
        {
          "data": {
            "text/plain": [
              "answer                0\n",
              "question              0\n",
              "url                  22\n",
              "tags                  0\n",
              "short_answer      29774\n",
              "question_text    160682\n",
              "context          166804\n",
              "answer_author    161147\n",
              "dtype: int64"
            ]
          },
          "execution_count": 10,
          "metadata": {},
          "output_type": "execute_result"
        }
      ],
      "source": [
        "merged_df.isna().sum()"
      ]
    },
    {
      "cell_type": "code",
      "execution_count": null,
      "metadata": {
        "id": "iUmJYzwhBfxv",
        "outputId": "374a7189-e7c2-4d50-f4ba-3dec9e6d97d9"
      },
      "outputs": [
        {
          "data": {
            "text/html": [
              "<div>\n",
              "<style scoped>\n",
              "    .dataframe tbody tr th:only-of-type {\n",
              "        vertical-align: middle;\n",
              "    }\n",
              "\n",
              "    .dataframe tbody tr th {\n",
              "        vertical-align: top;\n",
              "    }\n",
              "\n",
              "    .dataframe thead th {\n",
              "        text-align: right;\n",
              "    }\n",
              "</style>\n",
              "<table border=\"1\" class=\"dataframe\">\n",
              "  <thead>\n",
              "    <tr style=\"text-align: right;\">\n",
              "      <th></th>\n",
              "      <th>answer</th>\n",
              "      <th>question</th>\n",
              "      <th>url</th>\n",
              "      <th>tags</th>\n",
              "      <th>short_answer</th>\n",
              "      <th>question_text</th>\n",
              "      <th>context</th>\n",
              "      <th>answer_author</th>\n",
              "    </tr>\n",
              "  </thead>\n",
              "  <tbody>\n",
              "    <tr>\n",
              "      <th>166821</th>\n",
              "      <td>to avoid unintentional overdoses among adults ...</td>\n",
              "      <td>how can accidental of acetaminophen overdose b...</td>\n",
              "      <td>http://answers.webmd.com/answers/1175997/how-c...</td>\n",
              "      <td>[drug overdose, acetaminophen]</td>\n",
              "      <td>NaN</td>\n",
              "      <td>NaN</td>\n",
              "      <td>NaN</td>\n",
              "      <td>NaN</td>\n",
              "    </tr>\n",
              "    <tr>\n",
              "      <th>166822</th>\n",
              "      <td>if you take more medication than you have been...</td>\n",
              "      <td>what should i do if i take an overdose of maxalt?</td>\n",
              "      <td>http://answers.webmd.com/answers/1168806/what-...</td>\n",
              "      <td>[drug overdose]</td>\n",
              "      <td>NaN</td>\n",
              "      <td>NaN</td>\n",
              "      <td>NaN</td>\n",
              "      <td>NaN</td>\n",
              "    </tr>\n",
              "    <tr>\n",
              "      <th>166823</th>\n",
              "      <td>call your doctor or poison control center or g...</td>\n",
              "      <td>what do i do in case of an overdose of relpax?</td>\n",
              "      <td>http://answers.webmd.com/answers/1168730/what-...</td>\n",
              "      <td>[drug overdose]</td>\n",
              "      <td>NaN</td>\n",
              "      <td>NaN</td>\n",
              "      <td>NaN</td>\n",
              "      <td>NaN</td>\n",
              "    </tr>\n",
              "    <tr>\n",
              "      <th>166824</th>\n",
              "      <td>in the u. s. suicide attempts account for over...</td>\n",
              "      <td>is overdose with acetaminophen usually acciden...</td>\n",
              "      <td>http://answers.webmd.com/answers/1175998/is-ov...</td>\n",
              "      <td>[drug overdose, acetaminophen]</td>\n",
              "      <td>NaN</td>\n",
              "      <td>NaN</td>\n",
              "      <td>NaN</td>\n",
              "      <td>NaN</td>\n",
              "    </tr>\n",
              "    <tr>\n",
              "      <th>166825</th>\n",
              "      <td>the answer is that liver damage from acetamino...</td>\n",
              "      <td>how does an overdose of acetaminophen cause li...</td>\n",
              "      <td>http://answers.webmd.com/answers/1176004/how-d...</td>\n",
              "      <td>[drug overdose, injury, liver, acetaminophen]</td>\n",
              "      <td>NaN</td>\n",
              "      <td>NaN</td>\n",
              "      <td>NaN</td>\n",
              "      <td>NaN</td>\n",
              "    </tr>\n",
              "  </tbody>\n",
              "</table>\n",
              "</div>"
            ],
            "text/plain": [
              "                                                   answer  \\\n",
              "166821  to avoid unintentional overdoses among adults ...   \n",
              "166822  if you take more medication than you have been...   \n",
              "166823  call your doctor or poison control center or g...   \n",
              "166824  in the u. s. suicide attempts account for over...   \n",
              "166825  the answer is that liver damage from acetamino...   \n",
              "\n",
              "                                                 question  \\\n",
              "166821  how can accidental of acetaminophen overdose b...   \n",
              "166822  what should i do if i take an overdose of maxalt?   \n",
              "166823     what do i do in case of an overdose of relpax?   \n",
              "166824  is overdose with acetaminophen usually acciden...   \n",
              "166825  how does an overdose of acetaminophen cause li...   \n",
              "\n",
              "                                                      url  \\\n",
              "166821  http://answers.webmd.com/answers/1175997/how-c...   \n",
              "166822  http://answers.webmd.com/answers/1168806/what-...   \n",
              "166823  http://answers.webmd.com/answers/1168730/what-...   \n",
              "166824  http://answers.webmd.com/answers/1175998/is-ov...   \n",
              "166825  http://answers.webmd.com/answers/1176004/how-d...   \n",
              "\n",
              "                                                 tags short_answer  \\\n",
              "166821                 [drug overdose, acetaminophen]          NaN   \n",
              "166822                                [drug overdose]          NaN   \n",
              "166823                                [drug overdose]          NaN   \n",
              "166824                 [drug overdose, acetaminophen]          NaN   \n",
              "166825  [drug overdose, injury, liver, acetaminophen]          NaN   \n",
              "\n",
              "       question_text context answer_author  \n",
              "166821           NaN     NaN           NaN  \n",
              "166822           NaN     NaN           NaN  \n",
              "166823           NaN     NaN           NaN  \n",
              "166824           NaN     NaN           NaN  \n",
              "166825           NaN     NaN           NaN  "
            ]
          },
          "execution_count": 11,
          "metadata": {},
          "output_type": "execute_result"
        }
      ],
      "source": [
        "merged_df.tail()"
      ]
    },
    {
      "cell_type": "code",
      "execution_count": null,
      "metadata": {
        "id": "sVeYvfSaBfxw",
        "outputId": "503271f6-3225-4ecf-c13d-9312e36b31ca"
      },
      "outputs": [
        {
          "data": {
            "text/plain": [
              "Index(['answer', 'question', 'url', 'tags', 'short_answer', 'question_text',\n",
              "       'context', 'answer_author'],\n",
              "      dtype='object')"
            ]
          },
          "execution_count": 12,
          "metadata": {},
          "output_type": "execute_result"
        }
      ],
      "source": [
        "merged_df.columns"
      ]
    },
    {
      "cell_type": "code",
      "execution_count": null,
      "metadata": {
        "id": "5DD4hvecBfxw",
        "outputId": "71e10e06-0184-4ced-cabc-9ab2063941e3"
      },
      "outputs": [
        {
          "name": "stdout",
          "output_type": "stream",
          "text": [
            "<class 'pandas.core.frame.DataFrame'>\n",
            "RangeIndex: 166826 entries, 0 to 166825\n",
            "Data columns (total 2 columns):\n",
            " #   Column    Non-Null Count   Dtype \n",
            "---  ------    --------------   ----- \n",
            " 0   answer    166826 non-null  object\n",
            " 1   question  166826 non-null  object\n",
            "dtypes: object(2)\n",
            "memory usage: 2.5+ MB\n"
          ]
        }
      ],
      "source": [
        "col = ['answer','question']\n",
        "merged_df = merged_df[col]\n",
        "merged_df.info()"
      ]
    },
    {
      "cell_type": "markdown",
      "metadata": {
        "id": "z-G3XMgOBfxw"
      },
      "source": [
        "**Preprocessing**"
      ]
    },
    {
      "cell_type": "code",
      "execution_count": null,
      "metadata": {
        "id": "04SAyJeRBfxy"
      },
      "outputs": [],
      "source": [
        "# performing basic preprocessing on data\n",
        "stop_words = set(stopwords.words('english'))\n",
        "lemmatizer = WordNetLemmatizer()\n",
        "\n",
        "def preprocess_text(text):\n",
        "    # tokenizing the words\n",
        "    tokens = word_tokenize(text.lower())\n",
        "    # removing the stop words from the data and performing lemmatization on each token\n",
        "    filtered_tokens = [lemmatizer.lemmatize(token) for token in tokens if token not in stop_words]\n",
        "    # returning the filtered tokens\n",
        "    return filtered_tokens\n",
        "# creating a column containing processed question column\n",
        "merged_df['processed_question'] = merged_df['question'].apply(preprocess_text)"
      ]
    },
    {
      "cell_type": "code",
      "execution_count": null,
      "metadata": {
        "id": "FSJKn3F9Bfxy"
      },
      "outputs": [],
      "source": [
        "# defining a function to compute similarity between the user input and the processed question\n",
        "def compute_similarity(user_input, processed_question):\n",
        "    # creating an instance of tfidf vectorizer\n",
        "    tfidf_vectorizer = TfidfVectorizer()\n",
        "    # fitting the user input on the tfidf vectorizer\n",
        "    tfidf_user_input = tfidf_vectorizer.fit_transform([user_input])\n",
        "    # transforming the column processed question\n",
        "    tfidf_processed_question = tfidf_vectorizer.transform([' '.join(processed_question)])\n",
        "    # returning the cosine similarity between the user input and the question column\n",
        "    return cosine_similarity(tfidf_user_input, tfidf_processed_question)[0][0]"
      ]
    },
    {
      "cell_type": "code",
      "execution_count": null,
      "metadata": {
        "id": "_5WzbzHeBfxy",
        "outputId": "4e886977-189e-42e7-d9d7-b9bc99ca9dfa"
      },
      "outputs": [
        {
          "name": "stdout",
          "output_type": "stream",
          "text": [
            "------------------------------Question?-------------------------------\n",
            "--------------------------------ANSWER--------------------------------\n",
            "sure it is (was) a very common medication. if you are in il call me. most of the times however i use wellbutrin (bupropion) - less side effects additional benefits and the same likelihood to quit. by the way it is better to be used as a part of a \"cocktail\" and with a couch-like person.\n"
          ]
        }
      ],
      "source": [
        "# getting the input from the user\n",
        "print(\"Question?\".center(70,'-'))\n",
        "user_input = input()\n",
        "\n",
        "# preprocessing the user's input\n",
        "processed_user_input = preprocess_text(user_input)\n",
        "\n",
        "# compute similarity between the user's input and each question in the dataset\n",
        "merged_df['similarity'] = merged_df['processed_question'].apply(lambda x: compute_similarity(' '.join(processed_user_input), x))\n",
        "\n",
        "# return the answer to the most similar question\n",
        "most_similar_index = merged_df['similarity'].idxmax()\n",
        "print(\"ANSWER\".center(70,'-'))\n",
        "print(merged_df.loc[most_similar_index]['answer'])"
      ]
    },
    {
      "cell_type": "code",
      "execution_count": null,
      "metadata": {
        "id": "4DVdr3tnBfxz"
      },
      "outputs": [],
      "source": []
    }
  ],
  "metadata": {
    "kernelspec": {
      "display_name": "base",
      "language": "python",
      "name": "python3"
    },
    "language_info": {
      "codemirror_mode": {
        "name": "ipython",
        "version": 3
      },
      "file_extension": ".py",
      "mimetype": "text/x-python",
      "name": "python",
      "nbconvert_exporter": "python",
      "pygments_lexer": "ipython3",
      "version": "3.11.1"
    },
    "orig_nbformat": 4,
    "colab": {
      "provenance": [],
      "include_colab_link": true
    }
  },
  "nbformat": 4,
  "nbformat_minor": 0
}